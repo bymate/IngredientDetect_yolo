{
 "cells": [
  {
   "cell_type": "code",
   "execution_count": 1,
   "metadata": {},
   "outputs": [],
   "source": [
    "import pandas as pd"
   ]
  },
  {
   "cell_type": "code",
   "execution_count": 3,
   "metadata": {},
   "outputs": [
    {
     "name": "stdout",
     "output_type": "stream",
     "text": [
      "Ultralytics 8.3.24  Python-3.12.3 torch-2.4.1 CPU (Intel Core(TM) i5-8250U 1.60GHz)\n"
     ]
    },
    {
     "name": "stderr",
     "output_type": "stream",
     "text": [
      "c:\\Users\\Paris\\miniconda3\\envs\\ds_study\\Lib\\site-packages\\torch\\cuda\\__init__.py:128: UserWarning: CUDA initialization: The NVIDIA driver on your system is too old (found version 10000). Please update your GPU driver by downloading and installing a new version from the URL: http://www.nvidia.com/Download/index.aspx Alternatively, go to: https://pytorch.org to install a PyTorch version that has been compiled with your version of the CUDA driver. (Triggered internally at C:\\cb\\pytorch_1000000000000\\work\\c10\\cuda\\CUDAFunctions.cpp:108.)\n",
      "  return torch._C._cuda_getDeviceCount() > 0\n"
     ]
    },
    {
     "name": "stdout",
     "output_type": "stream",
     "text": [
      "YOLO11n summary (fused): 238 layers, 2,589,562 parameters, 0 gradients, 6.4 GFLOPs\n"
     ]
    },
    {
     "name": "stderr",
     "output_type": "stream",
     "text": [
      "\u001b[34m\u001b[1mval: \u001b[0mScanning C:\\Users\\Paris\\Desktop\\제로베이스\\dl_project\\kaggle_download\\kaggle\\zerobase_DS28_DLP-main\\YOLODataset\\labels\\val.cache... 30 images, 0 backgrounds, 0 corrupt: 100%|██████████| 30/30 [00:00<?, ?it/s]\n",
      "                 Class     Images  Instances      Box(P          R      mAP50  mAP50-95): 100%|██████████| 2/2 [00:01<00:00,  1.13it/s]\n"
     ]
    },
    {
     "name": "stdout",
     "output_type": "stream",
     "text": [
      "                   all         30         76      0.762      0.886      0.949      0.801\n",
      "Speed: 1.4ms preprocess, 42.0ms inference, 0.0ms loss, 1.2ms postprocess per image\n",
      "Results saved to \u001b[1mYOLODataset\\detect\\val62\u001b[0m\n",
      "Ultralytics 8.3.24  Python-3.12.3 torch-2.4.1 CPU (Intel Core(TM) i5-8250U 1.60GHz)\n",
      "YOLO11n summary (fused): 238 layers, 2,589,562 parameters, 0 gradients, 6.4 GFLOPs\n"
     ]
    },
    {
     "name": "stderr",
     "output_type": "stream",
     "text": [
      "\u001b[34m\u001b[1mval: \u001b[0mScanning C:\\Users\\Paris\\Desktop\\제로베이스\\dl_project\\kaggle_download\\kaggle\\zerobase_DS28_DLP-main\\YOLODataset\\labels\\val.cache... 30 images, 0 backgrounds, 0 corrupt: 100%|██████████| 30/30 [00:00<?, ?it/s]\n",
      "                 Class     Images  Instances      Box(P          R      mAP50  mAP50-95): 100%|██████████| 2/2 [00:01<00:00,  1.49it/s]\n"
     ]
    },
    {
     "name": "stdout",
     "output_type": "stream",
     "text": [
      "                   all         30         76      0.737      0.784      0.934      0.788\n",
      "Speed: 0.6ms preprocess, 35.3ms inference, 0.0ms loss, 0.9ms postprocess per image\n",
      "Results saved to \u001b[1mYOLODataset\\detect\\val63\u001b[0m\n",
      "Ultralytics 8.3.24  Python-3.12.3 torch-2.4.1 CPU (Intel Core(TM) i5-8250U 1.60GHz)\n",
      "YOLO11n summary (fused): 238 layers, 2,589,562 parameters, 0 gradients, 6.4 GFLOPs\n"
     ]
    },
    {
     "name": "stderr",
     "output_type": "stream",
     "text": [
      "\u001b[34m\u001b[1mval: \u001b[0mScanning C:\\Users\\Paris\\Desktop\\제로베이스\\dl_project\\kaggle_download\\kaggle\\zerobase_DS28_DLP-main\\YOLODataset\\labels\\val.cache... 30 images, 0 backgrounds, 0 corrupt: 100%|██████████| 30/30 [00:00<?, ?it/s]\n",
      "                 Class     Images  Instances      Box(P          R      mAP50  mAP50-95): 100%|██████████| 2/2 [00:01<00:00,  1.35it/s]\n"
     ]
    },
    {
     "name": "stdout",
     "output_type": "stream",
     "text": [
      "                   all         30         76      0.803      0.881      0.966      0.795\n",
      "Speed: 0.7ms preprocess, 35.7ms inference, 0.0ms loss, 1.0ms postprocess per image\n",
      "Results saved to \u001b[1mYOLODataset\\detect\\val64\u001b[0m\n",
      "Ultralytics 8.3.24  Python-3.12.3 torch-2.4.1 CPU (Intel Core(TM) i5-8250U 1.60GHz)\n",
      "YOLO11n summary (fused): 238 layers, 2,589,562 parameters, 0 gradients, 6.4 GFLOPs\n"
     ]
    },
    {
     "name": "stderr",
     "output_type": "stream",
     "text": [
      "\u001b[34m\u001b[1mval: \u001b[0mScanning C:\\Users\\Paris\\Desktop\\제로베이스\\dl_project\\kaggle_download\\kaggle\\zerobase_DS28_DLP-main\\YOLODataset\\labels\\val.cache... 30 images, 0 backgrounds, 0 corrupt: 100%|██████████| 30/30 [00:00<?, ?it/s]\n",
      "                 Class     Images  Instances      Box(P          R      mAP50  mAP50-95): 100%|██████████| 2/2 [00:01<00:00,  1.40it/s]\n"
     ]
    },
    {
     "name": "stdout",
     "output_type": "stream",
     "text": [
      "                   all         30         76      0.789      0.815      0.911      0.774\n",
      "Speed: 0.5ms preprocess, 34.3ms inference, 0.0ms loss, 0.9ms postprocess per image\n",
      "Results saved to \u001b[1mYOLODataset\\detect\\val65\u001b[0m\n"
     ]
    },
    {
     "data": {
      "text/plain": [
       "[0.8011800098666126,\n",
       " 0.7879775531491321,\n",
       " 0.7946963949331102,\n",
       " 0.7736450548890546]"
      ]
     },
     "execution_count": 3,
     "metadata": {},
     "output_type": "execute_result"
    }
   ],
   "source": [
    "from ultralytics import YOLO\n",
    "\n",
    "# Validate the model\n",
    "model_1 = YOLO('./kaggle_download/kaggle/working/runs/detect/train/weights/best.pt')\n",
    "model_2 = YOLO('./kaggle_download/kaggle/working/runs/detect/train3/weights/best.pt')\n",
    "model_3 = YOLO('./kaggle_download/kaggle/working/runs/detect/train4/weights/best.pt')\n",
    "model_4 = YOLO('./kaggle_download/kaggle/working/runs/detect/train7/weights/best.pt')\n",
    "\n",
    "\n",
    "metrics_1 = model_1.val(data='./kaggle_download/kaggle/zerobase_DS28_DLP-main/YOLODataset/dataset.yaml', verbose=False)\n",
    "metrics_2 = model_2.val(data='./kaggle_download/kaggle/zerobase_DS28_DLP-main/YOLODataset/dataset.yaml', verbose=False)\n",
    "metrics_3 = model_3.val(data='./kaggle_download/kaggle/zerobase_DS28_DLP-main/YOLODataset/dataset.yaml', verbose=False)\n",
    "metrics_4 = model_4.val(data='./kaggle_download/kaggle/zerobase_DS28_DLP-main/YOLODataset/dataset.yaml', verbose=False)\n",
    "\n",
    "metrics_result = []\n",
    "metrics_result.append(metrics_1.box.map)\n",
    "metrics_result.append(metrics_2.box.map)\n",
    "metrics_result.append(metrics_3.box.map)\n",
    "metrics_result.append(metrics_4.box.map)\n",
    "\n",
    "metrics_result"
   ]
  },
  {
   "cell_type": "markdown",
   "metadata": {},
   "source": [
    "#### 고등어(mackerel)에 대한 mAP50-95 값이 격차가 유독 차이가 많이남을 확인\n",
    "- val 폴더에 있는 고등어의 이미지가 실제 학습한 이미지와 너무 다른 이미지여서 평가를 제대로 못하는 것으로 추정됨.\n",
    "- val 고등어 이미지 교체 후 재 학습 및 예측 진행\n",
    "- 0.2 ~ 0.9 사이에서 변동이 심했던 이전과 달리 0.89 ~ 0.99 사이의 값으로 고등어에 대한 성능 평가가 안정화 됨."
   ]
  },
  {
   "cell_type": "code",
   "execution_count": 4,
   "metadata": {},
   "outputs": [
    {
     "name": "stdout",
     "output_type": "stream",
     "text": [
      "고등어 결과 \n",
      " 0.398 \n",
      " 0.8955\n"
     ]
    }
   ],
   "source": [
    "print('고등어 결과',\"\\n\",metrics_1.maps[36],\"\\n\",metrics_2.maps[36])"
   ]
  },
  {
   "cell_type": "code",
   "execution_count": 5,
   "metadata": {},
   "outputs": [
    {
     "name": "stdout",
     "output_type": "stream",
     "text": [
      "Ultralytics 8.3.24  Python-3.12.3 torch-2.4.1 CPU (Intel Core(TM) i5-8250U 1.60GHz)\n",
      "YOLO11n summary (fused): 238 layers, 2,589,562 parameters, 0 gradients, 6.4 GFLOPs\n"
     ]
    },
    {
     "name": "stderr",
     "output_type": "stream",
     "text": [
      "\u001b[34m\u001b[1mval: \u001b[0mScanning C:\\Users\\Paris\\Desktop\\제로베이스\\dl_project\\kaggle_download\\kaggle\\zerobase_DS28_DLP_change_mackerel\\YOLODataset\\labels\\val.cache... 30 images, 0 backgrounds, 0 corrupt: 100%|██████████| 30/30 [00:00<?, ?it/s]\n",
      "                 Class     Images  Instances      Box(P          R      mAP50  mAP50-95): 100%|██████████| 2/2 [00:01<00:00,  1.21it/s]\n"
     ]
    },
    {
     "name": "stdout",
     "output_type": "stream",
     "text": [
      "                   all         30         76        0.7       0.87      0.939      0.787\n",
      "Speed: 0.8ms preprocess, 39.4ms inference, 0.0ms loss, 1.5ms postprocess per image\n",
      "Results saved to \u001b[1mYOLODataset\\detect\\val66\u001b[0m\n",
      "Ultralytics 8.3.24  Python-3.12.3 torch-2.4.1 CPU (Intel Core(TM) i5-8250U 1.60GHz)\n",
      "YOLO11n summary (fused): 238 layers, 2,589,562 parameters, 0 gradients, 6.4 GFLOPs\n"
     ]
    },
    {
     "name": "stderr",
     "output_type": "stream",
     "text": [
      "\u001b[34m\u001b[1mval: \u001b[0mScanning C:\\Users\\Paris\\Desktop\\제로베이스\\dl_project\\kaggle_download\\kaggle\\zerobase_DS28_DLP_change_mackerel\\YOLODataset\\labels\\val.cache... 30 images, 0 backgrounds, 0 corrupt: 100%|██████████| 30/30 [00:00<?, ?it/s]\n",
      "                 Class     Images  Instances      Box(P          R      mAP50  mAP50-95): 100%|██████████| 2/2 [00:01<00:00,  1.39it/s]\n"
     ]
    },
    {
     "name": "stdout",
     "output_type": "stream",
     "text": [
      "                   all         30         76      0.708      0.938      0.942      0.782\n",
      "Speed: 0.5ms preprocess, 34.7ms inference, 0.0ms loss, 0.8ms postprocess per image\n",
      "Results saved to \u001b[1mYOLODataset\\detect\\val67\u001b[0m\n",
      "Ultralytics 8.3.24  Python-3.12.3 torch-2.4.1 CPU (Intel Core(TM) i5-8250U 1.60GHz)\n",
      "YOLO11n summary (fused): 238 layers, 2,589,562 parameters, 0 gradients, 6.4 GFLOPs\n"
     ]
    },
    {
     "name": "stderr",
     "output_type": "stream",
     "text": [
      "\u001b[34m\u001b[1mval: \u001b[0mScanning C:\\Users\\Paris\\Desktop\\제로베이스\\dl_project\\kaggle_download\\kaggle\\zerobase_DS28_DLP_change_mackerel\\YOLODataset\\labels\\val.cache... 30 images, 0 backgrounds, 0 corrupt: 100%|██████████| 30/30 [00:00<?, ?it/s]\n",
      "                 Class     Images  Instances      Box(P          R      mAP50  mAP50-95): 100%|██████████| 2/2 [00:01<00:00,  1.39it/s]\n"
     ]
    },
    {
     "name": "stdout",
     "output_type": "stream",
     "text": [
      "                   all         30         76      0.772       0.94      0.966      0.808\n",
      "Speed: 0.6ms preprocess, 34.6ms inference, 0.0ms loss, 0.8ms postprocess per image\n",
      "Results saved to \u001b[1mYOLODataset\\detect\\val68\u001b[0m\n",
      "Ultralytics 8.3.24  Python-3.12.3 torch-2.4.1 CPU (Intel Core(TM) i5-8250U 1.60GHz)\n",
      "YOLO11n summary (fused): 238 layers, 2,589,562 parameters, 0 gradients, 6.4 GFLOPs\n"
     ]
    },
    {
     "name": "stderr",
     "output_type": "stream",
     "text": [
      "\u001b[34m\u001b[1mval: \u001b[0mScanning C:\\Users\\Paris\\Desktop\\제로베이스\\dl_project\\kaggle_download\\kaggle\\zerobase_DS28_DLP_change_mackerel\\YOLODataset\\labels\\val.cache... 30 images, 0 backgrounds, 0 corrupt: 100%|██████████| 30/30 [00:00<?, ?it/s]\n",
      "                 Class     Images  Instances      Box(P          R      mAP50  mAP50-95): 100%|██████████| 2/2 [00:01<00:00,  1.33it/s]\n"
     ]
    },
    {
     "name": "stdout",
     "output_type": "stream",
     "text": [
      "                   all         30         76      0.782      0.911      0.955      0.794\n",
      "Speed: 0.7ms preprocess, 35.7ms inference, 0.0ms loss, 0.9ms postprocess per image\n",
      "Results saved to \u001b[1mYOLODataset\\detect\\val69\u001b[0m\n"
     ]
    },
    {
     "data": {
      "text/plain": [
       "[0.7865229823237526,\n",
       " 0.7818558694156875,\n",
       " 0.8080237180848845,\n",
       " 0.7944538516893647]"
      ]
     },
     "execution_count": 5,
     "metadata": {},
     "output_type": "execute_result"
    }
   ],
   "source": [
    "re_model_1 = YOLO('./kaggle_download/kaggle/working_change_mackerel/runs/detect/train/weights/best.pt')\n",
    "re_model_2 = YOLO('./kaggle_download/kaggle/working_change_mackerel/runs/detect/train3/weights/best.pt')\n",
    "re_model_3 = YOLO('./kaggle_download/kaggle/working_change_mackerel/runs/detect/train33/weights/best.pt')\n",
    "re_model_4 = YOLO('./kaggle_download/kaggle/working_change_mackerel/runs/detect/train333/weights/best.pt')\n",
    "\n",
    "\n",
    "re_metrics_1 = re_model_1.val(data='./kaggle_download/kaggle/zerobase_DS28_DLP_change_mackerel/YOLODataset/dataset.yaml', verbose=False)\n",
    "re_metrics_2 = re_model_2.val(data='./kaggle_download/kaggle/zerobase_DS28_DLP_change_mackerel/YOLODataset/dataset.yaml', verbose=False)\n",
    "re_metrics_3 = re_model_3.val(data='./kaggle_download/kaggle/zerobase_DS28_DLP_change_mackerel/YOLODataset/dataset.yaml', verbose=False)\n",
    "re_metrics_4 = re_model_4.val(data='./kaggle_download/kaggle/zerobase_DS28_DLP_change_mackerel/YOLODataset/dataset.yaml', verbose=False)\n",
    "\n",
    "re_metrics_result = []\n",
    "re_metrics_result.append(re_metrics_1.box.map)\n",
    "re_metrics_result.append(re_metrics_2.box.map)\n",
    "re_metrics_result.append(re_metrics_3.box.map)\n",
    "re_metrics_result.append(re_metrics_4.box.map)\n",
    "\n",
    "re_metrics_result"
   ]
  },
  {
   "cell_type": "code",
   "execution_count": 6,
   "metadata": {},
   "outputs": [
    {
     "data": {
      "text/plain": [
       "([0.398, 0.896, 0.696, 0.298], [0.896, 0.896, 0.995, 0.995])"
      ]
     },
     "execution_count": 6,
     "metadata": {},
     "output_type": "execute_result"
    }
   ],
   "source": [
    "metrics_list = [metrics_1, metrics_2, metrics_3, metrics_4]\n",
    "re_metrics_list = [re_metrics_1, re_metrics_2, re_metrics_3, re_metrics_4]\n",
    "\n",
    "mackerel_before = []\n",
    "mackerel_after = []\n",
    "\n",
    "for i in range(4):\n",
    "    mackerel_before.append(round(metrics_list[i].maps[36], 3))\n",
    "    mackerel_after.append(round(re_metrics_list[i].maps[36], 3))\n",
    "\n",
    "mackerel_before, mackerel_after"
   ]
  },
  {
   "cell_type": "code",
   "execution_count": 7,
   "metadata": {},
   "outputs": [
    {
     "data": {
      "text/html": [
       "<div>\n",
       "<style scoped>\n",
       "    .dataframe tbody tr th:only-of-type {\n",
       "        vertical-align: middle;\n",
       "    }\n",
       "\n",
       "    .dataframe tbody tr th {\n",
       "        vertical-align: top;\n",
       "    }\n",
       "\n",
       "    .dataframe thead th {\n",
       "        text-align: right;\n",
       "    }\n",
       "</style>\n",
       "<table border=\"1\" class=\"dataframe\">\n",
       "  <thead>\n",
       "    <tr style=\"text-align: right;\">\n",
       "      <th></th>\n",
       "      <th>val image 변경 전 mAP50-95</th>\n",
       "      <th>val image 변경 후 mAP50-95</th>\n",
       "    </tr>\n",
       "  </thead>\n",
       "  <tbody>\n",
       "    <tr>\n",
       "      <th>0</th>\n",
       "      <td>0.398</td>\n",
       "      <td>0.896</td>\n",
       "    </tr>\n",
       "    <tr>\n",
       "      <th>1</th>\n",
       "      <td>0.896</td>\n",
       "      <td>0.896</td>\n",
       "    </tr>\n",
       "    <tr>\n",
       "      <th>2</th>\n",
       "      <td>0.696</td>\n",
       "      <td>0.995</td>\n",
       "    </tr>\n",
       "    <tr>\n",
       "      <th>3</th>\n",
       "      <td>0.298</td>\n",
       "      <td>0.995</td>\n",
       "    </tr>\n",
       "  </tbody>\n",
       "</table>\n",
       "</div>"
      ],
      "text/plain": [
       "   val image 변경 전 mAP50-95  val image 변경 후 mAP50-95\n",
       "0                    0.398                    0.896\n",
       "1                    0.896                    0.896\n",
       "2                    0.696                    0.995\n",
       "3                    0.298                    0.995"
      ]
     },
     "execution_count": 7,
     "metadata": {},
     "output_type": "execute_result"
    }
   ],
   "source": [
    "pd.DataFrame({\n",
    "    'val image 변경 전 mAP50-95': mackerel_before,\n",
    "    'val image 변경 후 mAP50-95': mackerel_after\n",
    "})"
   ]
  },
  {
   "cell_type": "markdown",
   "metadata": {},
   "source": [
    "----"
   ]
  },
  {
   "cell_type": "markdown",
   "metadata": {},
   "source": [
    "## k-fold 교차검증을 통한 모델 과적합 방지 및 일반화 성능 평가\n",
    "- 기존에 내가 학습한 방법은 validation 데이터를 클래스별 1개 이하의 파일을 사용했다. 이로인해 과적합 여부를 제대로 파악하기 어려워 모델의 일반화 능력을 평가하기 어렵고 모델 성능 평가에 대한 신뢰도가 낮다.\n",
    "\n",
    "- k-fold 교차검증은 다양한 데이터의 조합을 validation 데이터로 사용하므로 평가가 왜곡될 가능성이 줄어들며 특정 데이터에 과적합되는 현상을 최대한 방지할 수 있다. "
   ]
  },
  {
   "cell_type": "markdown",
   "metadata": {},
   "source": [
    "#### 라벨 데이터 프레임 만들기\n"
   ]
  },
  {
   "cell_type": "markdown",
   "metadata": {},
   "source": [
    "- 라벨과 클래스 추출"
   ]
  },
  {
   "cell_type": "code",
   "execution_count": 1,
   "metadata": {},
   "outputs": [
    {
     "name": "stdout",
     "output_type": "stream",
     "text": [
      "{0: 'onion', 1: 'garlic', 2: 'carrot', 3: 'potato', 4: 'cucumber', 5: 'pumpkin', 6: 'bellpepper', 7: 'greenonion', 8: 'pepper', 9: 'tofu', 10: 'tomato', 11: 'egg', 12: 'pork', 13: 'buttonmushroom', 14: 'roundcabbage', 15: 'broccoli', 16: 'raddish', 17: 'kimchi', 18: 'chicken', 19: 'eggplant', 20: 'cabbage', 21: 'oystermushroom', 22: 'sweetpotato', 23: 'spinachi', 24: 'bokchoy', 25: 'perillaleaves', 26: 'dumpling', 27: 'fishcake', 28: 'duck', 29: 'enokimushroom', 30: 'beef', 31: 'shellfish', 32: 'shrimp', 33: 'salmon', 34: 'squid', 35: 'hairtail', 36: 'mackerel', 37: 'sprout'}\n",
      "[0, 1, 2, 3, 4, 5, 6, 7, 8, 9, 10, 11, 12, 13, 14, 15, 16, 17, 18, 19, 20, 21, 22, 23, 24, 25, 26, 27, 28, 29, 30, 31, 32, 33, 34, 35, 36, 37]\n"
     ]
    }
   ],
   "source": [
    "from pathlib import Path\n",
    "import yaml\n",
    "\n",
    "dataset_path = Path('./kfold')\n",
    "labels = sorted((dataset_path / 'labels').rglob('*.txt')) # ./kfold/labels 에 있는 모든 .txt 파일\n",
    "\n",
    "# yaml 클래스 리스트로 생성. 아래에서 yaml 파일 만들기 위해 사용함.\n",
    "yaml_file = './kaggle_download/kaggle/zerobase_DS28_DLP_change_mackerel/YOLODataset/dataset.yaml'\n",
    "with open(yaml_file, 'r', encoding='utf8') as y:\n",
    "    classes = yaml.safe_load(y)['names'] # safe_load: yaml 파일 형식을 딕셔너리로 변환해줌.\n",
    "\n",
    "cls_idx = sorted(classes.keys())\n",
    "\n",
    "print(classes)\n",
    "print(cls_idx)"
   ]
  },
  {
   "cell_type": "markdown",
   "metadata": {},
   "source": [
    "- 라벨 데이터 프레임 및 각 txt 파일별로 몇개의 클래스가 있는지 확인"
   ]
  },
  {
   "cell_type": "markdown",
   "metadata": {},
   "source": [
    "#### 교차검증을 위한 K-fold 데이터셋 만들기"
   ]
  },
  {
   "cell_type": "code",
   "execution_count": 13,
   "metadata": {},
   "outputs": [],
   "source": [
    "# import os\n",
    "# from sklearn.model_selection import KFold\n",
    "\n",
    "# ksplit = 5\n",
    "# kf = KFold(n_splits=ksplit, shuffle=True, random_state=13)\n",
    "# kfolds = list(kf.split(labels_df))"
   ]
  },
  {
   "cell_type": "code",
   "execution_count": 2,
   "metadata": {},
   "outputs": [],
   "source": [
    "import os\n",
    "from sklearn.model_selection import KFold, train_test_split\n",
    "\n",
    "images_path = './kfold/images/dataset'\n",
    "labels_path = './kfold/labels/dataset'\n",
    "\n",
    "# zip()으로 묶어줄 때 같은거 끼리 묶기 위해서 sorted() 사용.\n",
    "image_files = sorted((f for f in os.listdir(images_path)), key=lambda x: os.path.splitext(x)[0]) # 확장자를 제외한 파일명으로 정렬\n",
    "label_files = sorted((f for f in os.listdir(labels_path)), key=lambda x: os.path.splitext(x)[0])\n",
    "\n",
    "data_pairs = list(zip(image_files, label_files))"
   ]
  },
  {
   "cell_type": "code",
   "execution_count": 3,
   "metadata": {},
   "outputs": [],
   "source": [
    "import re\n",
    "\n",
    "label_list = []\n",
    "\n",
    "# test용 데이터를 별도로 분리하기 위해 파일명 기준으로 데이터 별도 분리\n",
    "for name in label_files:\n",
    "    match = re.match(r'[^\\d]+', name) # 맨 앞에서부터 숫자가 아닌 문자 추출.\n",
    "    label_list.append(match.group(0)) # group(0): 추출한 전체 문자열을 가져옴."
   ]
  },
  {
   "cell_type": "code",
   "execution_count": null,
   "metadata": {},
   "outputs": [],
   "source": [
    "ksplit = 5\n",
    "kf = KFold(n_splits=ksplit, shuffle=True, random_state=13)\n",
    "kfolds = list(kf.split(data_pairs)) # (이미지, 라벨)이 하나로 같이 움직이며, train으로 사용할 튜플의 인덱스를 각각 출력함."
   ]
  },
  {
   "cell_type": "code",
   "execution_count": 125,
   "metadata": {},
   "outputs": [
    {
     "data": {
      "text/plain": [
       "array([ 0,  1,  2,  3,  4,  6,  7,  8,  9, 10])"
      ]
     },
     "execution_count": 125,
     "metadata": {},
     "output_type": "execute_result"
    }
   ],
   "source": [
    "kfolds[0][0][:10]"
   ]
  },
  {
   "cell_type": "code",
   "execution_count": 131,
   "metadata": {},
   "outputs": [
    {
     "data": {
      "text/plain": [
       "(1305, 326)"
      ]
     },
     "execution_count": 131,
     "metadata": {},
     "output_type": "execute_result"
    }
   ],
   "source": [
    "len(kfolds[1][0]), len(kfolds[1][1])"
   ]
  },
  {
   "cell_type": "code",
   "execution_count": 127,
   "metadata": {},
   "outputs": [],
   "source": [
    "# len(val_pairs), val_pairs"
   ]
  },
  {
   "cell_type": "markdown",
   "metadata": {},
   "source": [
    "- 각 폴드마다 train, val로 분류된 비율이 일정하게 잘 분배 됐는지 확인"
   ]
  },
  {
   "cell_type": "code",
   "execution_count": 132,
   "metadata": {},
   "outputs": [
    {
     "name": "stdout",
     "output_type": "stream",
     "text": [
      "train 파일 개수: 1304 , val 파일 개수: 327\n",
      "train 파일 개수: 1305 , val 파일 개수: 326\n",
      "train 파일 개수: 1305 , val 파일 개수: 326\n",
      "train 파일 개수: 1305 , val 파일 개수: 326\n",
      "train 파일 개수: 1305 , val 파일 개수: 326\n"
     ]
    }
   ],
   "source": [
    "for n, (train_indices, val_indices) in enumerate(kfolds, start=1): # start=1 : 인덱스를 1부터 시작하게 함.\n",
    "    train_files = [data_pairs[i] for i in train_indices]\n",
    "    val_files = [data_pairs[i] for i in val_indices]\n",
    "    print('train 파일 개수:', len(train_files), ', val 파일 개수:', len(val_files))"
   ]
  },
  {
   "cell_type": "markdown",
   "metadata": {},
   "source": [
    "- cross validation 용 각 폴드 폴더 생성"
   ]
  },
  {
   "cell_type": "code",
   "execution_count": 133,
   "metadata": {},
   "outputs": [
    {
     "data": {
      "text/plain": [
       "{'jpeg', 'jpg', 'png'}"
      ]
     },
     "execution_count": 133,
     "metadata": {},
     "output_type": "execute_result"
    }
   ],
   "source": [
    "extensions = []\n",
    "for i, l in data_pairs:\n",
    "    extensions.append(i.split('.')[1])\n",
    "set(extensions)"
   ]
  },
  {
   "cell_type": "code",
   "execution_count": null,
   "metadata": {},
   "outputs": [],
   "source": [
    "# import datetime\n",
    "\n",
    "# cross validation 용 폴더 생성\n",
    "# 오늘 날짜를 ISO 형식(YYYY-MM-DD) 문자열로 반환\n",
    "# save_path = Path(dataset_path / f\"{datetime.date.today().isoformat()}_{ksplit}_Fold\") # 날짜 표기 폴더명\n",
    "save_path = Path(dataset_path / f\"{ksplit}_Fold\")\n",
    "save_path.mkdir(parents=True, exist_ok=True) # parents=True: 상위 디렉토리가 없으면 생성, exist_ok: 이미 디렉토리 있어도 오류 발생x"
   ]
  },
  {
   "cell_type": "code",
   "execution_count": 135,
   "metadata": {},
   "outputs": [],
   "source": [
    "# sorted_images[6], sorted_labels[6]"
   ]
  },
  {
   "cell_type": "markdown",
   "metadata": {},
   "source": [
    "- split, images, lables 폴더 생성 및 yaml 파일 생성"
   ]
  },
  {
   "cell_type": "code",
   "execution_count": null,
   "metadata": {},
   "outputs": [],
   "source": [
    "import yaml\n",
    "\n",
    "folds =[]\n",
    "for n in range(1, ksplit+1):\n",
    "    folds.append(f'split_{n}')\n",
    "\n",
    "\n",
    "yaml_list = []\n",
    "for split in folds:\n",
    "\n",
    "    split_dir = save_path / split # 디렉토리 경로\n",
    "    # print(split_dir)\n",
    "    split_dir.mkdir(parents=True, exist_ok=True) # 위 경로로 폴더 생성\n",
    "    (split_dir / 'train' / 'images').mkdir(parents=True, exist_ok=True)\n",
    "    (split_dir / 'train' / 'labels').mkdir(parents=True, exist_ok=True)\n",
    "    (split_dir / 'val' / 'images').mkdir(parents=True, exist_ok=True)\n",
    "    (split_dir / 'val' / 'labels').mkdir(parents=True, exist_ok=True)\n",
    "    # (split_dir / 'test' / 'images').mkdir(parents=True, exist_ok=True)\n",
    "    # (split_dir / 'test' / 'labels').mkdir(parents=True, exist_ok=True)\n",
    "    \n",
    "    # yaml 파일 경로 생성\n",
    "    yaml_dataset = split_dir / f'{split}_dataset.yaml'\n",
    "    yaml_list.append(yaml_dataset)\n",
    "\n",
    "    # yaml 파일 생성 및 내용 작성\n",
    "    with open(yaml_dataset, 'w', encoding='utf-8') as ds_y:\n",
    "        # safe_dump(저장할 데이터, 파일 객체): python 객체(리스트, 딕셔너리 등)를 yaml로 변환\n",
    "        # .resolve(): C:와 같이 절대경로로 변환\n",
    "        # .as_posix(): pathlib.Path를 문자열로 변환함.\n",
    "        yaml.safe_dump({\n",
    "            'train': (split_dir / 'train' / 'images').resolve().as_posix(),\n",
    "            'val': (split_dir / 'val' / 'images').resolve().as_posix(),\n",
    "            # 'test': (split_dir / 'test' /' images').resolve().as_posix(),\n",
    "            'names': classes\n",
    "        }, ds_y,\n",
    "        sort_keys=False, allow_unicode=True) # allow_unicode=True: 한글을 유니코드로 처리하지 않고 그대로 저장.\n",
    "        "
   ]
  },
  {
   "cell_type": "markdown",
   "metadata": {},
   "source": [
    "- 캐글에서 돌리기 위한 yaml 경로 수정(필요한 경우 진행)"
   ]
  },
  {
   "cell_type": "code",
   "execution_count": 107,
   "metadata": {},
   "outputs": [
    {
     "data": {
      "text/plain": [
       "WindowsPath('/kaggle')"
      ]
     },
     "execution_count": 107,
     "metadata": {},
     "output_type": "execute_result"
    }
   ],
   "source": [
    "Path('/kaggle')"
   ]
  },
  {
   "cell_type": "code",
   "execution_count": null,
   "metadata": {},
   "outputs": [],
   "source": [
    "for split in folds:\n",
    "        split_dir = save_path / split # 디렉토리 경로\n",
    "        yaml_dataset = split_dir / f'{split}_dataset.yaml'\n",
    "\n",
    "        with open(yaml_dataset, 'w', encoding='utf-8') as ds_y:\n",
    "                # safe_dump(저장할 데이터, 파일 객체): python 객체(리스트, 딕셔너리 등)를 yaml로 변환\n",
    "                # .as_posix(): pathlib.Path를 문자열로 변환함.\n",
    "                yaml.safe_dump({\n",
    "                'train': (Path('/kaggle') / 'input/kfoldcrossval'/ split / 'train' / 'images').as_posix(),\n",
    "                'val': (Path('/kaggle') / 'input/kfoldcrossval' / split / 'val' / 'images').as_posix(),\n",
    "                # 'test': (Path('/kaggle') / 'input/kfoldcrossval' / split / 'test' / 'images').as_posix(),\n",
    "                'names': classes\n",
    "                }, ds_y,\n",
    "                sort_keys=False)"
   ]
  },
  {
   "cell_type": "markdown",
   "metadata": {},
   "source": [
    "- 구글 코랩용 yaml 경로 수정(필요한 경우 진행)"
   ]
  },
  {
   "cell_type": "code",
   "execution_count": 137,
   "metadata": {},
   "outputs": [
    {
     "data": {
      "text/plain": [
       "['split_1', 'split_2', 'split_3', 'split_4', 'split_5']"
      ]
     },
     "execution_count": 137,
     "metadata": {},
     "output_type": "execute_result"
    }
   ],
   "source": [
    "folds"
   ]
  },
  {
   "cell_type": "code",
   "execution_count": null,
   "metadata": {},
   "outputs": [],
   "source": [
    "for split in folds:\n",
    "        split_dir = save_path / split # 디렉토리 경로\n",
    "        yaml_dataset = split_dir / f'{split}_dataset.yaml'\n",
    "\n",
    "        with open(yaml_dataset, 'w', encoding='utf-8') as ds_y:\n",
    "                # safe_dump(저장할 데이터, 파일 객체): python 객체(리스트, 딕셔너리 등)를 yaml로 변환\n",
    "                # .as_posix(): pathlib.Path를 문자열로 변환함.\n",
    "                yaml.safe_dump({\n",
    "                'train': (Path('/content/drive/MyDrive/ingredient project/5_Fold') / split / 'train' / 'images').as_posix(),\n",
    "                'val': (Path('/content/drive/MyDrive/ingredient project/5_Fold') / split / 'val' / 'images').as_posix(),\n",
    "                # 'test': (Path('/content/drive/MyDrive/ingredient project/5_Fold') / split / 'test' / 'images').as_posix(),\n",
    "                'names': classes\n",
    "                }, ds_y,\n",
    "                sort_keys=False)"
   ]
  },
  {
   "cell_type": "markdown",
   "metadata": {},
   "source": [
    "- 이미지와 라벨을 복사해서 폴더에 넣기"
   ]
  },
  {
   "cell_type": "code",
   "execution_count": 79,
   "metadata": {},
   "outputs": [
    {
     "data": {
      "text/plain": [
       "'./kfold/images/dataset'"
      ]
     },
     "execution_count": 79,
     "metadata": {},
     "output_type": "execute_result"
    }
   ],
   "source": [
    "images_path"
   ]
  },
  {
   "cell_type": "code",
   "execution_count": 145,
   "metadata": {},
   "outputs": [
    {
     "data": {
      "application/vnd.jupyter.widget-view+json": {
       "model_id": "74035c57751943d3bc94fee7c54fd833",
       "version_major": 2,
       "version_minor": 0
      },
      "text/plain": [
       "  0%|          | 0/5 [00:00<?, ?it/s]"
      ]
     },
     "metadata": {},
     "output_type": "display_data"
    }
   ],
   "source": [
    "import shutil\n",
    "from tqdm.notebook import tqdm\n",
    "# 'kfold/2024-11-28_5-Fold_Cross-val/split_1/train/images' 에 넣어야함.\n",
    "\n",
    "# image_files, label_files 에 인덱스 넣어서 하나씩 가져오면 됨.\n",
    "split_num = 1\n",
    "for f in tqdm(folds): # split_1, split_2, ...\n",
    "    \n",
    "    for idx, (train_indices, val_indices) in enumerate(kfolds, start=1):\n",
    "        # train과 val 폴더에 각각 파일 넣기        \n",
    "        if idx == split_num:\n",
    "            for t in train_indices:\n",
    "                t_img_name, t_label_name = data_pairs[t]\n",
    "                img_to_path = save_path / f / 'train' / 'images'\n",
    "                label_to_path = save_path / f / 'train' / 'labels'\n",
    "                shutil.copy(Path(images_path) / t_img_name, img_to_path) # .copy(소스 path, 디렉토리 path)(image_files[t] 없어도됨. 이건 이 파일명으로 복사한다는 뜻)\n",
    "                shutil.copy(Path(labels_path) / t_label_name, label_to_path)\n",
    "            for v in val_indices:\n",
    "                v_img_name, v_label_name = data_pairs[v]\n",
    "                img_to_path = save_path / f / 'val' / 'images'\n",
    "                label_to_path = save_path / f / 'val' / 'labels'\n",
    "                shutil.copy(Path(images_path) / v_img_name, img_to_path) \n",
    "                shutil.copy(Path(labels_path) / v_label_name, label_to_path)\n",
    "\n",
    "    split_num += 1"
   ]
  },
  {
   "cell_type": "markdown",
   "metadata": {},
   "source": [
    "## 최종 평가용 데이터셋 만들기\n",
    "- train 데이터: 전체 데이터 중 90%\n",
    "- val 데이터: 전체 데이터 중 10%"
   ]
  },
  {
   "cell_type": "code",
   "execution_count": 5,
   "metadata": {},
   "outputs": [],
   "source": [
    "# label_files의 순서대로 label_list가 되어있기 때문에 data_pairs 인덱스가 label_list 비율 순서에 맞게 분리가 됨.\n",
    "train_pairs, val_pairs = train_test_split(data_pairs,\n",
    "                                          test_size=0.1,\n",
    "                                          random_state=15,\n",
    "                                          stratify=label_list # 라벨만 별도로 분리해 라벨의 비율을 그대로 유지\n",
    "                                          )"
   ]
  },
  {
   "cell_type": "code",
   "execution_count": 16,
   "metadata": {},
   "outputs": [
    {
     "data": {
      "text/plain": [
       "(1467, ('oystermushroom00047.jpg', 'oystermushroom00047.txt'))"
      ]
     },
     "execution_count": 16,
     "metadata": {},
     "output_type": "execute_result"
    }
   ],
   "source": [
    "len(train_pairs), train_pairs[0]"
   ]
  },
  {
   "cell_type": "code",
   "execution_count": 20,
   "metadata": {},
   "outputs": [],
   "source": [
    "from pathlib import Path\n",
    "\n",
    "# final dataset 폴더 만들기\n",
    "final_dataset_path = Path('./final_dataset')\n",
    "final_dataset_path.mkdir(parents=True, exist_ok=True) # 상위 디렉토리 없으면 만들고 있으면 그냥 지나감.\n",
    "\n",
    "# train, test 폴더 만들기\n",
    "Path('./final_dataset/train/images').mkdir(parents=True, exist_ok=True)\n",
    "Path('./final_dataset/train/labels').mkdir(parents=True, exist_ok=True)\n",
    "Path('./final_dataset/val/images').mkdir(parents=True, exist_ok=True)\n",
    "Path('./final_dataset/val/labels').mkdir(parents=True, exist_ok=True)"
   ]
  },
  {
   "cell_type": "code",
   "execution_count": 19,
   "metadata": {},
   "outputs": [],
   "source": [
    "import shutil\n",
    "\n",
    "def copy_file(pairs, folder_path):\n",
    "    \n",
    "    for img, label in pairs:\n",
    "        shutil.copy(Path('./kfold/images/dataset') / img, f'./final_dataset/{folder_path}/images')\n",
    "        shutil.copy(Path('./kfold/labels/dataset') / label, f'./final_dataset/{folder_path}/labels')"
   ]
  },
  {
   "cell_type": "code",
   "execution_count": 21,
   "metadata": {},
   "outputs": [],
   "source": [
    "copy_file(train_pairs, 'train')\n",
    "copy_file(val_pairs, 'val')"
   ]
  },
  {
   "cell_type": "markdown",
   "metadata": {},
   "source": [
    "- yaml 파일 생성"
   ]
  },
  {
   "cell_type": "code",
   "execution_count": 22,
   "metadata": {},
   "outputs": [],
   "source": [
    "import yaml\n",
    "\n",
    "# yaml 파일 경로 생성\n",
    "yaml_path = './final_dataset/final_dataset.yaml'\n",
    "\n",
    "# 구글 드라이브 경로로 데이터 경로 바로 설정\n",
    "with open(yaml_path, 'w', encoding='utf-8') as fds_y:\n",
    "    yaml.safe_dump({\n",
    "        'train': '/content/drive/MyDrive/ingredient project/final_dataset/train/images',\n",
    "        'val': '/content/drive/MyDrive/ingredient project/final_dataset/val/images',\n",
    "        'names': classes\n",
    "    }, fds_y, sort_keys=False, allow_unicode=True)"
   ]
  },
  {
   "cell_type": "code",
   "execution_count": null,
   "metadata": {},
   "outputs": [],
   "source": []
  }
 ],
 "metadata": {
  "kernelspec": {
   "display_name": "ds_study",
   "language": "python",
   "name": "python3"
  },
  "language_info": {
   "codemirror_mode": {
    "name": "ipython",
    "version": 3
   },
   "file_extension": ".py",
   "mimetype": "text/x-python",
   "name": "python",
   "nbconvert_exporter": "python",
   "pygments_lexer": "ipython3",
   "version": "3.12.3"
  }
 },
 "nbformat": 4,
 "nbformat_minor": 2
}
