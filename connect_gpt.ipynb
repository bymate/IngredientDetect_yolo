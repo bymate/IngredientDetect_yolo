{
 "cells": [
  {
   "cell_type": "code",
   "execution_count": null,
   "metadata": {},
   "outputs": [],
   "source": [
    "import os\n",
    "\n",
    "os.environ[\"OPENAI_API_KEY\"] = \"sk-xxxxxxxxxxxxxxxxxxxxxxxxxxxxx\""
   ]
  },
  {
   "cell_type": "code",
   "execution_count": 3,
   "metadata": {},
   "outputs": [
    {
     "name": "stdout",
     "output_type": "stream",
     "text": [
      "ChatCompletionMessage(content='Hello! How can I assist you today?', refusal=None, role='assistant', audio=None, function_call=None, tool_calls=None, annotations=[])\n"
     ]
    }
   ],
   "source": [
    "from openai import OpenAI\n",
    "client = OpenAI()\n",
    "\n",
    "completion = client.chat.completions.create(\n",
    "    model=\"gpt-3.5-turbo\",\n",
    "    messages=[\n",
    "        # # 시스템 명령어(없어도됨)\n",
    "        # {\"role\": \"system\", \"content\": \"You are a helpful assistant.\"},\n",
    "        \n",
    "        # 본격적인 명령어\n",
    "        {\n",
    "            \"role\": \"user\",\n",
    "            \"content\": \"Hi\" # 내가 입력하고 싶은 명령어\n",
    "        }\n",
    "    ]\n",
    ")\n",
    "\n",
    "print(completion.choices[0].message)"
   ]
  },
  {
   "cell_type": "code",
   "execution_count": 8,
   "metadata": {},
   "outputs": [
    {
     "name": "stdout",
     "output_type": "stream",
     "text": [
      "Results saved to \u001b[1mc:\\Users\\Paris\\Desktop\\\\dl_project\\output_folder\\result5\u001b[0m\n"
     ]
    },
    {
     "data": {
      "text/plain": [
       "['squid',\n",
       " 'pork',\n",
       " 'greenonion',\n",
       " 'pepper',\n",
       " 'garlic',\n",
       " 'onion',\n",
       " 'carrot',\n",
       " 'perillaleaves']"
      ]
     },
     "execution_count": 8,
     "metadata": {},
     "output_type": "execute_result"
    }
   ],
   "source": [
    "from YOLODetector import YOLOIngredientsDetector\n",
    "from ultralytics import YOLO\n",
    "\n",
    "yolo_model = YOLO('./final_result_model/train/weights/best.pt')\n",
    "\n",
    "detector = YOLOIngredientsDetector(yolo_model)\n",
    "\n",
    "all_ingredients_list = detector.predict_ingredients(images_path = './detect_images/*.*')\n",
    "all_ingredients_list"
   ]
  },
  {
   "cell_type": "code",
   "execution_count": 6,
   "metadata": {},
   "outputs": [],
   "source": [
    "from openai import OpenAI\n",
    "client = OpenAI()\n",
    "\n",
    "completion = client.chat.completions.create(\n",
    "    model=\"gpt-3.5-turbo\",\n",
    "    messages=[\n",
    "        \n",
    "        # 본격적인 명령어\n",
    "        {\n",
    "            \"role\": \"user\",\n",
    "            \"content\": f\"\"\"우리집 냉장고 속에 있는 재료는 다음과 같아.\n",
    "            {all_ingredients_list}. 이 재료를 참고해서 만들어 먹을 수 있는 요리를 하나 추천해주고 재료와 요리법도 알려줘.\n",
    "            모든 재료를 다 사용할 필요는 없어. 이 재료중에서 활용할 수 있는 재료를 메인으로해서 만들수 있는 음식을 원해.\n",
    "            다음과 같은 형식으로 추천해줘. 모두 한글로 작성하고 재료는 필요한 그람수, 티스푼 등 용량도 같이 알려줘.\n",
    "            요리 방법은 한줄씩 한줄씩 설명해줘.\n",
    "            ----\n",
    "            [추천요리]\n",
    "            - 추천요리 이름\n",
    "            \n",
    "            [재료]\n",
    "            - 재료\n",
    "            - 재료\n",
    "            \n",
    "            [요리 방법]\n",
    "\n",
    "            \"\"\"\n",
    "        }\n",
    "    ]\n",
    ")"
   ]
  },
  {
   "cell_type": "code",
   "execution_count": 7,
   "metadata": {},
   "outputs": [
    {
     "name": "stdout",
     "output_type": "stream",
     "text": [
      "[추천요리]\n",
      "- 오징어 볶음밥\n",
      "\n",
      "[재료]\n",
      "- 오징어 : 200g\n",
      "- 양파 : 1개\n",
      "- 당근 : 1/2개\n",
      "- 대파 : 1대\n",
      "- 다진 마늘 : 1큰술\n",
      "- 다진 생강 : 1작은술\n",
      "- 밥 : 2공기\n",
      "- 간장 : 2큰술\n",
      "- 소금, 후추\n",
      "- 식용유\n",
      "\n",
      "[요리 방법]\n",
      "1. 오징어는 흐르는 물에 씻어서 물기를 제거하고 도톰하게 채 썰어준다.\n",
      "2. 양파와 당근은 굵게 다져준다.\n",
      "3. 대파는 어슷썰어 준비한다.\n",
      "4. 팬에 식용유를 두르고 다진 마늘, 다진 생강을 볶아 향을 낸다.\n",
      "5. 오징어를 넣고 볶아 익힌다.\n",
      "6. 양파와 당근을 넣고 볶아 식감이 살아있도록 준비한다.\n",
      "7. 밥을 넣고 잘 볶아준다.\n",
      "8. 간장, 소금, 후추로 간을 맞춰준다.\n",
      "9. 대파를 곁들여 마무리한다. 식용유를 더해서 볶으면 더 맛있는 볶음밥을 즐길 수 있다.\n"
     ]
    }
   ],
   "source": [
    "response = completion.choices[0].message.content\n",
    "print(response)"
   ]
  },
  {
   "cell_type": "code",
   "execution_count": null,
   "metadata": {},
   "outputs": [],
   "source": []
  }
 ],
 "metadata": {
  "kernelspec": {
   "display_name": "ds_study",
   "language": "python",
   "name": "python3"
  },
  "language_info": {
   "codemirror_mode": {
    "name": "ipython",
    "version": 3
   },
   "file_extension": ".py",
   "mimetype": "text/x-python",
   "name": "python",
   "nbconvert_exporter": "python",
   "pygments_lexer": "ipython3",
   "version": "3.12.3"
  }
 },
 "nbformat": 4,
 "nbformat_minor": 2
}
